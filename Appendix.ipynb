{
 "cells": [
  {
   "cell_type": "code",
   "execution_count": 3,
   "metadata": {},
   "outputs": [],
   "source": [
    "import pandas as pd\n",
    "import numpy as np\n",
    "import matplotlib\n",
    "import matplotlib.pyplot as plt\n",
    "from matplotlib import cm\n",
    "import seaborn as sns\n",
    "import statsmodels.api as sm\n",
    "%matplotlib inline \n",
    "from sklearn.model_selection import train_test_split\n",
    "import os"
   ]
  },
  {
   "cell_type": "code",
   "execution_count": 4,
   "metadata": {},
   "outputs": [],
   "source": [
    "import warnings\n",
    "warnings.filterwarnings(\"ignore\")"
   ]
  },
  {
   "cell_type": "code",
   "execution_count": 5,
   "metadata": {},
   "outputs": [
    {
     "data": {
      "text/html": [
       "<div>\n",
       "<style scoped>\n",
       "    .dataframe tbody tr th:only-of-type {\n",
       "        vertical-align: middle;\n",
       "    }\n",
       "\n",
       "    .dataframe tbody tr th {\n",
       "        vertical-align: top;\n",
       "    }\n",
       "\n",
       "    .dataframe thead th {\n",
       "        text-align: right;\n",
       "    }\n",
       "</style>\n",
       "<table border=\"1\" class=\"dataframe\">\n",
       "  <thead>\n",
       "    <tr style=\"text-align: right;\">\n",
       "      <th></th>\n",
       "      <th>X</th>\n",
       "      <th>Y</th>\n",
       "      <th>Z</th>\n",
       "      <th>Step</th>\n",
       "    </tr>\n",
       "  </thead>\n",
       "  <tbody>\n",
       "    <tr>\n",
       "      <td>0</td>\n",
       "      <td>9.375</td>\n",
       "      <td>3.0625</td>\n",
       "      <td>0.50</td>\n",
       "      <td>1</td>\n",
       "    </tr>\n",
       "    <tr>\n",
       "      <td>1</td>\n",
       "      <td>9.375</td>\n",
       "      <td>3.0625</td>\n",
       "      <td>0.51</td>\n",
       "      <td>1</td>\n",
       "    </tr>\n",
       "    <tr>\n",
       "      <td>2</td>\n",
       "      <td>9.375</td>\n",
       "      <td>3.0625</td>\n",
       "      <td>0.52</td>\n",
       "      <td>1</td>\n",
       "    </tr>\n",
       "    <tr>\n",
       "      <td>3</td>\n",
       "      <td>9.375</td>\n",
       "      <td>3.0625</td>\n",
       "      <td>0.53</td>\n",
       "      <td>1</td>\n",
       "    </tr>\n",
       "    <tr>\n",
       "      <td>4</td>\n",
       "      <td>9.375</td>\n",
       "      <td>3.0625</td>\n",
       "      <td>0.54</td>\n",
       "      <td>1</td>\n",
       "    </tr>\n",
       "    <tr>\n",
       "      <td>...</td>\n",
       "      <td>...</td>\n",
       "      <td>...</td>\n",
       "      <td>...</td>\n",
       "      <td>...</td>\n",
       "    </tr>\n",
       "    <tr>\n",
       "      <td>855</td>\n",
       "      <td>0.000</td>\n",
       "      <td>3.0625</td>\n",
       "      <td>1.89</td>\n",
       "      <td>13</td>\n",
       "    </tr>\n",
       "    <tr>\n",
       "      <td>856</td>\n",
       "      <td>0.000</td>\n",
       "      <td>3.0625</td>\n",
       "      <td>1.90</td>\n",
       "      <td>13</td>\n",
       "    </tr>\n",
       "    <tr>\n",
       "      <td>857</td>\n",
       "      <td>0.000</td>\n",
       "      <td>3.0625</td>\n",
       "      <td>1.91</td>\n",
       "      <td>13</td>\n",
       "    </tr>\n",
       "    <tr>\n",
       "      <td>858</td>\n",
       "      <td>0.000</td>\n",
       "      <td>3.0625</td>\n",
       "      <td>1.92</td>\n",
       "      <td>13</td>\n",
       "    </tr>\n",
       "    <tr>\n",
       "      <td>859</td>\n",
       "      <td>0.000</td>\n",
       "      <td>3.0625</td>\n",
       "      <td>1.93</td>\n",
       "      <td>13</td>\n",
       "    </tr>\n",
       "  </tbody>\n",
       "</table>\n",
       "<p>860 rows × 4 columns</p>\n",
       "</div>"
      ],
      "text/plain": [
       "         X       Y     Z  Step\n",
       "0    9.375  3.0625  0.50     1\n",
       "1    9.375  3.0625  0.51     1\n",
       "2    9.375  3.0625  0.52     1\n",
       "3    9.375  3.0625  0.53     1\n",
       "4    9.375  3.0625  0.54     1\n",
       "..     ...     ...   ...   ...\n",
       "855  0.000  3.0625  1.89    13\n",
       "856  0.000  3.0625  1.90    13\n",
       "857  0.000  3.0625  1.91    13\n",
       "858  0.000  3.0625  1.92    13\n",
       "859  0.000  3.0625  1.93    13\n",
       "\n",
       "[860 rows x 4 columns]"
      ]
     },
     "execution_count": 5,
     "metadata": {},
     "output_type": "execute_result"
    }
   ],
   "source": [
    "df = pd.read_csv('Thesis_data.csv',header=0,encoding = 'unicode_escape')\n",
    "df"
   ]
  },
  {
   "cell_type": "code",
   "execution_count": 5,
   "metadata": {},
   "outputs": [
    {
     "data": {
      "text/html": [
       "<div>\n",
       "<style scoped>\n",
       "    .dataframe tbody tr th:only-of-type {\n",
       "        vertical-align: middle;\n",
       "    }\n",
       "\n",
       "    .dataframe tbody tr th {\n",
       "        vertical-align: top;\n",
       "    }\n",
       "\n",
       "    .dataframe thead th {\n",
       "        text-align: right;\n",
       "    }\n",
       "</style>\n",
       "<table border=\"1\" class=\"dataframe\">\n",
       "  <thead>\n",
       "    <tr style=\"text-align: right;\">\n",
       "      <th></th>\n",
       "      <th>X</th>\n",
       "      <th>Y</th>\n",
       "      <th>Z</th>\n",
       "      <th>Step</th>\n",
       "    </tr>\n",
       "  </thead>\n",
       "  <tbody>\n",
       "    <tr>\n",
       "      <td>count</td>\n",
       "      <td>860.000000</td>\n",
       "      <td>860.000000</td>\n",
       "      <td>860.000000</td>\n",
       "      <td>860.000000</td>\n",
       "    </tr>\n",
       "    <tr>\n",
       "      <td>mean</td>\n",
       "      <td>5.587116</td>\n",
       "      <td>4.845605</td>\n",
       "      <td>1.197465</td>\n",
       "      <td>7.756977</td>\n",
       "    </tr>\n",
       "    <tr>\n",
       "      <td>std</td>\n",
       "      <td>3.719067</td>\n",
       "      <td>1.142329</td>\n",
       "      <td>0.522844</td>\n",
       "      <td>2.407837</td>\n",
       "    </tr>\n",
       "    <tr>\n",
       "      <td>min</td>\n",
       "      <td>0.000000</td>\n",
       "      <td>3.062500</td>\n",
       "      <td>0.000000</td>\n",
       "      <td>1.000000</td>\n",
       "    </tr>\n",
       "    <tr>\n",
       "      <td>25%</td>\n",
       "      <td>1.562500</td>\n",
       "      <td>3.062500</td>\n",
       "      <td>0.783800</td>\n",
       "      <td>7.000000</td>\n",
       "    </tr>\n",
       "    <tr>\n",
       "      <td>50%</td>\n",
       "      <td>7.770000</td>\n",
       "      <td>5.125000</td>\n",
       "      <td>1.220000</td>\n",
       "      <td>8.000000</td>\n",
       "    </tr>\n",
       "    <tr>\n",
       "      <td>75%</td>\n",
       "      <td>8.575000</td>\n",
       "      <td>5.845000</td>\n",
       "      <td>1.616975</td>\n",
       "      <td>9.000000</td>\n",
       "    </tr>\n",
       "    <tr>\n",
       "      <td>max</td>\n",
       "      <td>9.375000</td>\n",
       "      <td>5.845000</td>\n",
       "      <td>2.350000</td>\n",
       "      <td>13.000000</td>\n",
       "    </tr>\n",
       "  </tbody>\n",
       "</table>\n",
       "</div>"
      ],
      "text/plain": [
       "                X           Y           Z        Step\n",
       "count  860.000000  860.000000  860.000000  860.000000\n",
       "mean     5.587116    4.845605    1.197465    7.756977\n",
       "std      3.719067    1.142329    0.522844    2.407837\n",
       "min      0.000000    3.062500    0.000000    1.000000\n",
       "25%      1.562500    3.062500    0.783800    7.000000\n",
       "50%      7.770000    5.125000    1.220000    8.000000\n",
       "75%      8.575000    5.845000    1.616975    9.000000\n",
       "max      9.375000    5.845000    2.350000   13.000000"
      ]
     },
     "execution_count": 5,
     "metadata": {},
     "output_type": "execute_result"
    }
   ],
   "source": [
    "df.describe()"
   ]
  },
  {
   "cell_type": "code",
   "execution_count": 6,
   "metadata": {},
   "outputs": [
    {
     "data": {
      "text/plain": [
       "<matplotlib.axes._subplots.AxesSubplot at 0x1c2027d4d0>"
      ]
     },
     "execution_count": 6,
     "metadata": {},
     "output_type": "execute_result"
    },
    {
     "data": {
      "image/png": "[encoded data removed]",
      "text/plain": [
       "<Figure size 360x360 with 2 Axes>"
      ]
     },
     "metadata": {
      "needs_background": "light"
     },
     "output_type": "display_data"
    }
   ],
   "source": [
    "pearsoncorr = df.corr(method='pearson')\n",
    "pearsoncorr\n",
    "\n",
    "#Correlation Matrix Heatmap\n",
    "plt.figure(figsize=(5,5))\n",
    "sns.set(font_scale=1.5)\n",
    "sns.heatmap(pearsoncorr, xticklabels=pearsoncorr.columns, yticklabels=pearsoncorr.columns, cmap='coolwarm', annot=True, \n",
    "            linewidth = 0.3, linecolor='black',robust = True, annot_kws={\"size\": 15}, cbar=True, center= 0)"
   ]
  },
  {
   "cell_type": "code",
   "execution_count": 6,
   "metadata": {},
   "outputs": [
    {
     "name": "stdout",
     "output_type": "stream",
     "text": [
      "              precision    recall  f1-score   support\n",
      "\n",
      "           1       1.00      1.00      1.00         5\n",
      "           2       0.50      1.00      0.67         5\n",
      "           3       0.00      0.00      0.00         7\n",
      "           4       0.60      0.60      0.60         5\n",
      "           5       0.60      1.00      0.75         3\n",
      "           6       1.00      1.00      1.00         4\n",
      "           7       1.00      1.00      1.00        38\n",
      "           8       1.00      1.00      1.00        79\n",
      "           9       1.00      1.00      1.00        79\n",
      "          10       0.64      1.00      0.78         9\n",
      "          11       0.00      0.00      0.00        10\n",
      "          12       0.58      1.00      0.74         7\n",
      "          13       1.00      1.00      1.00         7\n",
      "\n",
      "    accuracy                           0.93       258\n",
      "   macro avg       0.69      0.82      0.73       258\n",
      "weighted avg       0.89      0.93      0.90       258\n",
      "\n"
     ]
    },
    {
     "data": {
      "text/plain": [
       "0.9022663036087016"
      ]
     },
     "execution_count": 6,
     "metadata": {},
     "output_type": "execute_result"
    }
   ],
   "source": [
    "X = df.drop(columns=['Step'])\n",
    "y = df.Step\n",
    "\n",
    "#split dataset into train and test data\n",
    "X_train, X_test, y_train, y_test = train_test_split(X, y, test_size=0.3, random_state=109)\n",
    "\n",
    "\n",
    "from sklearn import metrics\n",
    "from sklearn.metrics import classification_report, confusion_matrix, f1_score\n",
    "\n",
    "from sklearn import svm\n",
    "clf = svm.SVC(kernel='rbf',gamma = 'scale', C=10) \n",
    "clf.fit(X_train, y_train)\n",
    "y_pred_SVM = clf.predict(X_test)\n",
    "print(classification_report(y_test, y_pred_SVM))\n",
    "score1 = f1_score(y_test, y_pred_SVM, average='weighted')\n",
    "score1"
   ]
  },
  {
   "cell_type": "code",
   "execution_count": 7,
   "metadata": {},
   "outputs": [
    {
     "name": "stdout",
     "output_type": "stream",
     "text": [
      "              precision    recall  f1-score   support\n",
      "\n",
      "           1       0.71      1.00      0.83         5\n",
      "           2       0.38      0.60      0.46         5\n",
      "           3       1.00      0.14      0.25         7\n",
      "           4       0.80      0.80      0.80         5\n",
      "           5       0.75      1.00      0.86         3\n",
      "           6       1.00      1.00      1.00         4\n",
      "           7       1.00      1.00      1.00        38\n",
      "           8       1.00      1.00      1.00        79\n",
      "           9       1.00      1.00      1.00        79\n",
      "          10       0.75      1.00      0.86         9\n",
      "          11       1.00      0.50      0.67        10\n",
      "          12       0.75      0.86      0.80         7\n",
      "          13       0.88      1.00      0.93         7\n",
      "\n",
      "    accuracy                           0.94       258\n",
      "   macro avg       0.85      0.84      0.80       258\n",
      "weighted avg       0.96      0.94      0.94       258\n",
      "\n"
     ]
    },
    {
     "data": {
      "text/plain": [
       "0.935310361473152"
      ]
     },
     "execution_count": 7,
     "metadata": {},
     "output_type": "execute_result"
    }
   ],
   "source": [
    "from sklearn.linear_model import LogisticRegression \n",
    "LogisticReg = LogisticRegression(multi_class = 'multinomial',solver = 'sag', C=10)\n",
    "LogisticReg.fit(X_train, y_train)\n",
    "y_pred_logReg = LogisticReg.predict(X_test)\n",
    "print(classification_report(y_test, y_pred_logReg))\n",
    "score2 = f1_score(y_test, y_pred_logReg, average='weighted')\n",
    "score2"
   ]
  },
  {
   "cell_type": "code",
   "execution_count": 8,
   "metadata": {},
   "outputs": [
    {
     "name": "stdout",
     "output_type": "stream",
     "text": [
      "              precision    recall  f1-score   support\n",
      "\n",
      "           1       0.83      1.00      0.91         5\n",
      "           2       0.50      0.80      0.62         5\n",
      "           3       0.00      0.00      0.00         7\n",
      "           4       0.62      1.00      0.77         5\n",
      "           5       1.00      1.00      1.00         3\n",
      "           6       1.00      1.00      1.00         4\n",
      "           7       1.00      1.00      1.00        38\n",
      "           8       1.00      1.00      1.00        79\n",
      "           9       1.00      1.00      1.00        79\n",
      "          10       1.00      0.78      0.88         9\n",
      "          11       0.83      1.00      0.91        10\n",
      "          12       1.00      1.00      1.00         7\n",
      "          13       1.00      1.00      1.00         7\n",
      "\n",
      "    accuracy                           0.96       258\n",
      "   macro avg       0.83      0.89      0.85       258\n",
      "weighted avg       0.95      0.96      0.95       258\n",
      "\n"
     ]
    },
    {
     "data": {
      "text/plain": [
       "0.9512962812381417"
      ]
     },
     "execution_count": 8,
     "metadata": {},
     "output_type": "execute_result"
    }
   ],
   "source": [
    "from sklearn.ensemble import RandomForestClassifier\n",
    "rfc = RandomForestClassifier(n_estimators = 100, max_depth=4, random_state = 42)\n",
    "rfc.fit(X_train, y_train)\n",
    "y_pred_rfc = rfc.predict(X_test)\n",
    "print(classification_report(y_test, y_pred_rfc))\n",
    "score3 = f1_score(y_test, y_pred_rfc, average='weighted')\n",
    "score3"
   ]
  },
  {
   "cell_type": "code",
   "execution_count": 9,
   "metadata": {},
   "outputs": [
    {
     "name": "stdout",
     "output_type": "stream",
     "text": [
      "              precision    recall  f1-score   support\n",
      "\n",
      "           1       1.00      1.00      1.00         5\n",
      "           2       1.00      1.00      1.00         5\n",
      "           3       0.44      1.00      0.61         7\n",
      "           4       0.33      1.00      0.50         5\n",
      "           5       1.00      1.00      1.00         3\n",
      "           6       1.00      1.00      1.00         4\n",
      "           7       1.00      1.00      1.00        38\n",
      "           8       1.00      1.00      1.00        79\n",
      "           9       1.00      1.00      1.00        79\n",
      "          10       0.00      0.00      0.00         9\n",
      "          11       0.00      0.00      0.00        10\n",
      "          12       1.00      1.00      1.00         7\n",
      "          13       1.00      1.00      1.00         7\n",
      "\n",
      "    accuracy                           0.93       258\n",
      "   macro avg       0.75      0.85      0.78       258\n",
      "weighted avg       0.90      0.93      0.91       258\n",
      "\n"
     ]
    },
    {
     "data": {
      "text/plain": [
       "0.9060498820357262"
      ]
     },
     "execution_count": 9,
     "metadata": {},
     "output_type": "execute_result"
    }
   ],
   "source": [
    "from sklearn.tree import DecisionTreeClassifier \n",
    "dtc = DecisionTreeClassifier(max_depth=8)\n",
    "dtc.fit(X_train, y_train)\n",
    "y_pred_dtc = dtc.predict(X_test)\n",
    "print(classification_report(y_test, y_pred_dtc))\n",
    "score4 = f1_score(y_test, y_pred_dtc, average='weighted')\n",
    "score4"
   ]
  },
  {
   "cell_type": "code",
   "execution_count": 10,
   "metadata": {},
   "outputs": [
    {
     "data": {
      "image/png": "[encoded data removed]",
      "text/plain": [
       "<Figure size 864x864 with 2 Axes>"
      ]
     },
     "metadata": {
      "needs_background": "light"
     },
     "output_type": "display_data"
    }
   ],
   "source": [
    "conf_mat3 = confusion_matrix(y_test, y_pred_rfc)\n",
    "\n",
    "fig, ax3 = plt.subplots(figsize=(12,12))\n",
    "sns.heatmap(conf_mat3, annot=True, fmt='d',\n",
    "            xticklabels=np.unique(df.Step), yticklabels=np.unique(df.Step), cmap = 'Reds',linecolor='black')\n",
    "plt.ylabel('Actual')\n",
    "plt.xlabel('Predicted')\n",
    "plt.show()\n"
   ]
  },
  {
   "cell_type": "code",
   "execution_count": 24,
   "metadata": {},
   "outputs": [
    {
     "data": {
      "text/plain": [
       "0.9512962812381417"
      ]
     },
     "execution_count": 24,
     "metadata": {},
     "output_type": "execute_result"
    }
   ],
   "source": [
    "f1_score_array = [score1, score2, score3, score4] #score1-SVM, score2-Logistic regression, score3-Random Forests, score4-Decision Tree\n",
    "Max_f1_score= max(f1_score_array)\n",
    "Max_f1_score"
   ]
  },
  {
   "cell_type": "code",
   "execution_count": 23,
   "metadata": {},
   "outputs": [
    {
     "name": "stdout",
     "output_type": "stream",
     "text": [
      "These Co-Ordinates are in step: 5\n",
      "These Co-Ordinates are in step: 8\n",
      "These Co-Ordinates are in step: 13\n",
      "These Co-Ordinates are in step: 6\n",
      "These Co-Ordinates are in step: 4\n"
     ]
    }
   ],
   "source": [
    "from sklearn.externals import joblib\n",
    "joblib.dump(rfc, 'Classifier.joblib')\n",
    "\n",
    "# Load the model trained previously\n",
    "rfc_1 = joblib.load('Classifier.joblib')\n",
    "\n",
    "step_to_classify= [[9.375,3.0625,1.51],[6.995,5.125,0.3875],[0,3.0625,1.93],[9.4,3,1.8],[9.4,3,1.3]]\n",
    "\n",
    "steps_to_classify = [step_to_classify]\n",
    "predicted_step_values = rfc_1.predict(step_to_classify)\n",
    "for predicted_value in predicted_step_values:\n",
    "    print(\"These Co-Ordinates are in step:\",predicted_value)\n"
   ]
  }
 ],
 "metadata": {
  "kernelspec": {
   "display_name": "Python 3",
   "language": "python",
   "name": "python3"
  },
  "language_info": {
   "codemirror_mode": {
    "name": "ipython",
    "version": 3
   },
   "file_extension": ".py",
   "mimetype": "text/x-python",
   "name": "python",
   "nbconvert_exporter": "python",
   "pygments_lexer": "ipython3",
   "version": "3.7.4"
  }
 },
 "nbformat": 4,
 "nbformat_minor": 2
}
